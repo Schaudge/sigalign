{
 "cells": [
  {
   "cell_type": "markdown",
   "metadata": {},
   "source": [
    "# Test python module"
   ]
  },
  {
   "cell_type": "code",
   "execution_count": 1,
   "metadata": {},
   "outputs": [],
   "source": [
    "import sigalign\n",
    "import json"
   ]
  },
  {
   "cell_type": "markdown",
   "metadata": {},
   "source": [
    "## (1) Make Reference"
   ]
  },
  {
   "cell_type": "code",
   "execution_count": 2,
   "metadata": {},
   "outputs": [],
   "source": [
    "reference_file_path = \"../sample_data/nucleotide_only/ERR209055.fa\""
   ]
  },
  {
   "cell_type": "code",
   "execution_count": 3,
   "metadata": {},
   "outputs": [],
   "source": [
    "reference = sigalign.Reference(\n",
    "    fasta = reference_file_path,\n",
    "    lt_size = 4,\n",
    "    reversed_nc = True,\n",
    ")"
   ]
  },
  {
   "cell_type": "markdown",
   "metadata": {},
   "source": [
    "## (2) Make Aligner"
   ]
  },
  {
   "cell_type": "code",
   "execution_count": 4,
   "metadata": {},
   "outputs": [],
   "source": [
    "aligner = sigalign.Aligner(\n",
    "    4,\n",
    "    6,\n",
    "    2,\n",
    "    80,\n",
    "    0.1,\n",
    ")"
   ]
  },
  {
   "cell_type": "code",
   "execution_count": 5,
   "metadata": {},
   "outputs": [
    {
     "data": {
      "text/plain": [
       "[4, 6, 2]"
      ]
     },
     "execution_count": 5,
     "metadata": {},
     "output_type": "execute_result"
    }
   ],
   "source": [
    "# penalties\n",
    "aligner.penalties()"
   ]
  },
  {
   "cell_type": "code",
   "execution_count": 6,
   "metadata": {},
   "outputs": [
    {
     "data": {
      "text/plain": [
       "(80, 0.10000000149011612)"
      ]
     },
     "execution_count": 6,
     "metadata": {},
     "output_type": "execute_result"
    }
   ],
   "source": [
    "# cutoff\n",
    "aligner.similarity_cutoff()"
   ]
  },
  {
   "cell_type": "code",
   "execution_count": 7,
   "metadata": {},
   "outputs": [
    {
     "data": {
      "text/plain": [
       "19"
      ]
     },
     "execution_count": 7,
     "metadata": {},
     "output_type": "execute_result"
    }
   ],
   "source": [
    "# pattern size\n",
    "aligner.pattern_size()"
   ]
  },
  {
   "cell_type": "markdown",
   "metadata": {},
   "source": [
    "## (3) Alignment"
   ]
  },
  {
   "cell_type": "code",
   "execution_count": 8,
   "metadata": {},
   "outputs": [],
   "source": [
    "result = aligner.local_alignment_labeled(\n",
    "    reference,\n",
    "    \"AGCAGGCAGTCACTGAAGCGAAGGAAAATTATGAGATCCATGGCGCAGGCAAAGCTGACCTATGAGAATTCCCTGTCCGGCGCAGAACGGGCAGAGAGTGATTATAATACTAGGGTGGAAAAAGCTAAGTCCGATCTGGCAGCTCTGAAAAGTACTTATGAAGATGCCAAAGAGAATCTGGAACTGTTTGAAAGCAGCGTGGGTGACGGATATTTCATATGAGGATGCAGTCACCAATGCT\",\n",
    ")"
   ]
  },
  {
   "cell_type": "code",
   "execution_count": 9,
   "metadata": {},
   "outputs": [
    {
     "data": {
      "text/plain": [
       "{'2': ['k59_12478',\n",
       "  [{'dissimilarity': 0.06422018,\n",
       "    'penalty': 14,\n",
       "    'length': 218,\n",
       "    'position': {'record': [68, 286], 'query': [0, 216]},\n",
       "    'operations': [{'alignment_type': 'Match', 'count': 40},\n",
       "     {'alignment_type': 'Insertion', 'count': 2},\n",
       "     {'alignment_type': 'Match', 'count': 72},\n",
       "     {'alignment_type': 'Subst', 'count': 1},\n",
       "     {'alignment_type': 'Match', 'count': 103}]}]]}"
      ]
     },
     "execution_count": 9,
     "metadata": {},
     "output_type": "execute_result"
    }
   ],
   "source": [
    "json.loads(result)"
   ]
  },
  {
   "cell_type": "code",
   "execution_count": 10,
   "metadata": {},
   "outputs": [],
   "source": [
    "query_file_path = \"../sample_data/nucleotide_only/ERR209056.fa\""
   ]
  },
  {
   "cell_type": "code",
   "execution_count": 11,
   "metadata": {},
   "outputs": [],
   "source": [
    "result = aligner.local_alignment_labeled_from_fasta_file(reference, query_file_path)"
   ]
  },
  {
   "cell_type": "code",
   "execution_count": 12,
   "metadata": {},
   "outputs": [
    {
     "data": {
      "text/plain": [
       "['k59_11424',\n",
       " {'15526': ['k59_1093',\n",
       "   [{'dissimilarity': 0.0,\n",
       "     'penalty': 0,\n",
       "     'length': 124,\n",
       "     'position': {'record': [0, 124], 'query': [147, 271]},\n",
       "     'operations': [{'alignment_type': 'Match', 'count': 124}]}]]}]"
      ]
     },
     "execution_count": 12,
     "metadata": {},
     "output_type": "execute_result"
    }
   ],
   "source": [
    "json.loads(result)[9]"
   ]
  },
  {
   "cell_type": "code",
   "execution_count": null,
   "metadata": {},
   "outputs": [],
   "source": []
  }
 ],
 "metadata": {
  "interpreter": {
   "hash": "f882d685c49ea15d1bbb39a2322e487770999cc24ff5b6e39a2c9b18a17dd61f"
  },
  "kernelspec": {
   "display_name": "Python 3.9.7 64-bit ('sigalign-py': conda)",
   "language": "python",
   "name": "python3"
  },
  "language_info": {
   "codemirror_mode": {
    "name": "ipython",
    "version": 3
   },
   "file_extension": ".py",
   "mimetype": "text/x-python",
   "name": "python",
   "nbconvert_exporter": "python",
   "pygments_lexer": "ipython3",
   "version": "3.9.7"
  },
  "orig_nbformat": 4
 },
 "nbformat": 4,
 "nbformat_minor": 2
}
