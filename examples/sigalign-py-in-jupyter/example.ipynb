{
 "cells": [
  {
   "cell_type": "markdown",
   "metadata": {},
   "source": [
    "# sigalign-py usage"
   ]
  },
  {
   "cell_type": "code",
   "execution_count": 1,
   "metadata": {},
   "outputs": [],
   "source": [
    "from sigalign import SequenceStorage, Reference, Aligner"
   ]
  },
  {
   "cell_type": "markdown",
   "metadata": {},
   "source": [
    "## 1. Define `SequenceStorage`"
   ]
  },
  {
   "cell_type": "code",
   "execution_count": 2,
   "metadata": {},
   "outputs": [],
   "source": [
    "ss = SequenceStorage()\n",
    "ss.add_record(\"record_1\", \"ACACAGATCGCAAACTCACAATTGTATTTCTTTGCCACCTGGGCATATACTTTTTGCGCCCCCTCATTTA\")\n",
    "ss.add_record(\"record_2\", \"TCTGGGGCCATTGTATTTCTTTGCCAGCTGGGGCATATACTTTTTCCGCCCCCTCATTTACGCTCATCAC\")"
   ]
  },
  {
   "cell_type": "markdown",
   "metadata": {},
   "source": [
    "## 2. Build `Reference`"
   ]
  },
  {
   "cell_type": "code",
   "execution_count": 3,
   "metadata": {},
   "outputs": [],
   "source": [
    "reference = Reference(\n",
    "    ss,\n",
    "    klt_size = 2,\n",
    "    sas_ratio = 2,\n",
    "    comp_block = True,\n",
    ")"
   ]
  },
  {
   "cell_type": "code",
   "execution_count": 4,
   "metadata": {},
   "outputs": [
    {
     "name": "stdout",
     "output_type": "stream",
     "text": [
      "# Status\n",
      " - record_count: 2\n",
      " - searchable_characters: ['A', 'C', 'G', 'T']\n",
      " - estimated_total_bytes: 1311\n",
      "# Compression level\n",
      " - klt_size: 2\n",
      " - sas_ratio: 2\n",
      " - bwt_block_size: 128\n"
     ]
    }
   ],
   "source": [
    "# Status\n",
    "print(\"# Status\")\n",
    "print(f\" - record_count: {reference.record_count}\")\n",
    "print(f\" - searchable_characters: {reference.searchable_characters}\")\n",
    "print(f\" - estimated_total_bytes: {reference.estimated_total_bytes}\")\n",
    "# Compression level\n",
    "print(\"# Compression level\")\n",
    "print(f\" - klt_size: {reference.klt_size}\")\n",
    "print(f\" - sas_ratio: {reference.sas_ratio}\")\n",
    "print(f\" - bwt_block_size: {reference.bwt_block_size}\")"
   ]
  },
  {
   "cell_type": "markdown",
   "metadata": {},
   "source": [
    "## 3. Make `Aligner`"
   ]
  },
  {
   "cell_type": "code",
   "execution_count": 5,
   "metadata": {},
   "outputs": [],
   "source": [
    "aligner = Aligner(\n",
    "    4,\n",
    "    6,\n",
    "    2,\n",
    "    50,\n",
    "    0.2,\n",
    "    is_local_mode = True,\n",
    ")"
   ]
  },
  {
   "cell_type": "code",
   "execution_count": 6,
   "metadata": {},
   "outputs": [
    {
     "name": "stdout",
     "output_type": "stream",
     "text": [
      "penalties: [4, 6, 2]\n",
      "cutoffs: (50, 0.20000000298023224)\n",
      "pattern_size: 12\n",
      "is_local_mode: True\n"
     ]
    }
   ],
   "source": [
    "print(f\"penalties: {aligner.penalties}\")\n",
    "print(f\"cutoffs: {aligner.cutoffs}\")\n",
    "print(f\"pattern_size: {aligner.pattern_size}\")\n",
    "print(f\"is_local_mode: {aligner.is_local_mode}\")"
   ]
  },
  {
   "cell_type": "markdown",
   "metadata": {},
   "source": [
    "## 4. Perform Alignment"
   ]
  },
  {
   "cell_type": "code",
   "execution_count": 7,
   "metadata": {},
   "outputs": [],
   "source": [
    "query = \"CAAACTCACAATTGTATTTCTTTGCCAGCTGGGCATATACTTTTTCCGCCCCCTCATTTAACTTCTTGGA\"\n",
    "\n",
    "result = aligner.align_query(reference, query)"
   ]
  },
  {
   "cell_type": "code",
   "execution_count": 8,
   "metadata": {},
   "outputs": [
    {
     "data": {
      "text/plain": [
       "[{'index': 1,\n",
       "  'label': 'record_2',\n",
       "  'alignments': [{'penalty': 8,\n",
       "    'length': 51,\n",
       "    'position': {'record': [9, 60], 'query': [10, 60]},\n",
       "    'operations': [{'case': 'Match', 'count': 23},\n",
       "     {'case': 'Insertion', 'count': 1},\n",
       "     {'case': 'Match', 'count': 27}]}]},\n",
       " {'index': 0,\n",
       "  'label': 'record_1',\n",
       "  'alignments': [{'penalty': 8,\n",
       "    'length': 60,\n",
       "    'position': {'record': [10, 70], 'query': [0, 60]},\n",
       "    'operations': [{'case': 'Match', 'count': 27},\n",
       "     {'case': 'Subst', 'count': 1},\n",
       "     {'case': 'Match', 'count': 17},\n",
       "     {'case': 'Subst', 'count': 1},\n",
       "     {'case': 'Match', 'count': 14}]}]}]"
      ]
     },
     "execution_count": 8,
     "metadata": {},
     "output_type": "execute_result"
    }
   ],
   "source": [
    "import json\n",
    "json.loads(result.to_json())"
   ]
  },
  {
   "cell_type": "code",
   "execution_count": 9,
   "metadata": {},
   "outputs": [
    {
     "data": {
      "text/html": [
       "<div>\n",
       "<style scoped>\n",
       "    .dataframe tbody tr th:only-of-type {\n",
       "        vertical-align: middle;\n",
       "    }\n",
       "\n",
       "    .dataframe tbody tr th {\n",
       "        vertical-align: top;\n",
       "    }\n",
       "\n",
       "    .dataframe thead th {\n",
       "        text-align: right;\n",
       "    }\n",
       "</style>\n",
       "<table border=\"1\" class=\"dataframe\">\n",
       "  <thead>\n",
       "    <tr style=\"text-align: right;\">\n",
       "      <th></th>\n",
       "      <th>index</th>\n",
       "      <th>label</th>\n",
       "      <th>penalty</th>\n",
       "      <th>length</th>\n",
       "      <th>qstart</th>\n",
       "      <th>qend</th>\n",
       "      <th>rstart</th>\n",
       "      <th>rend</th>\n",
       "      <th>operations</th>\n",
       "    </tr>\n",
       "  </thead>\n",
       "  <tbody>\n",
       "    <tr>\n",
       "      <th>0</th>\n",
       "      <td>1</td>\n",
       "      <td>record_2</td>\n",
       "      <td>8</td>\n",
       "      <td>51</td>\n",
       "      <td>10</td>\n",
       "      <td>60</td>\n",
       "      <td>9</td>\n",
       "      <td>60</td>\n",
       "      <td>M23I1M27</td>\n",
       "    </tr>\n",
       "    <tr>\n",
       "      <th>1</th>\n",
       "      <td>0</td>\n",
       "      <td>record_1</td>\n",
       "      <td>8</td>\n",
       "      <td>60</td>\n",
       "      <td>0</td>\n",
       "      <td>60</td>\n",
       "      <td>10</td>\n",
       "      <td>70</td>\n",
       "      <td>M27S1M17S1M14</td>\n",
       "    </tr>\n",
       "  </tbody>\n",
       "</table>\n",
       "</div>"
      ],
      "text/plain": [
       "   index     label  penalty  length  qstart  qend  rstart  rend     operations\n",
       "0      1  record_2        8      51      10    60       9    60       M23I1M27\n",
       "1      0  record_1        8      60       0    60      10    70  M27S1M17S1M14"
      ]
     },
     "execution_count": 9,
     "metadata": {},
     "output_type": "execute_result"
    }
   ],
   "source": [
    "import pandas as pd\n",
    "df = pd.DataFrame(\n",
    "    result.to_2d_array(),\n",
    "    columns = [\n",
    "        'index', 'label', 'penalty', 'length',\n",
    "        'qstart', 'qend', 'rstart', 'rend', 'operations',\n",
    "    ]\n",
    ")\n",
    "df"
   ]
  }
 ],
 "metadata": {
  "interpreter": {
   "hash": "f882d685c49ea15d1bbb39a2322e487770999cc24ff5b6e39a2c9b18a17dd61f"
  },
  "kernelspec": {
   "display_name": "Python 3.9.7 64-bit ('sigalign-py': conda)",
   "language": "python",
   "name": "python3"
  },
  "language_info": {
   "codemirror_mode": {
    "name": "ipython",
    "version": 3
   },
   "file_extension": ".py",
   "mimetype": "text/x-python",
   "name": "python",
   "nbconvert_exporter": "python",
   "pygments_lexer": "ipython3",
   "version": "3.11.0"
  },
  "orig_nbformat": 4
 },
 "nbformat": 4,
 "nbformat_minor": 2
}
